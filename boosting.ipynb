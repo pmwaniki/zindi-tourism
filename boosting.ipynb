{
 "cells": [
  {
   "cell_type": "code",
   "execution_count": 1,
   "metadata": {
    "pycharm": {
     "name": "#%%\n"
    }
   },
   "outputs": [],
   "source": [
    "import os\n",
    "\n",
    "from catboost import CatBoostClassifier, Pool,sum_models\n",
    "from sklearn.preprocessing import LabelEncoder\n",
    "from sklearn.model_selection import KFold\n",
    "import numpy as np\n",
    "import pandas as pd"
   ]
  },
  {
   "cell_type": "code",
   "execution_count": 2,
   "metadata": {
    "pycharm": {
     "name": "#%%\n"
    }
   },
   "outputs": [],
   "source": [
    "from settings import data_dir, result_dir, log_dir"
   ]
  },
  {
   "cell_type": "code",
   "execution_count": 3,
   "metadata": {
    "pycharm": {
     "name": "#%%\n"
    }
   },
   "outputs": [],
   "source": [
    "experiment=\"Catboost\"\n",
    "train=pd.read_csv(os.path.join(data_dir,\"Train.csv\"))\n",
    "test=pd.read_csv(os.path.join(data_dir,\"Test.csv\"))"
   ]
  },
  {
   "cell_type": "code",
   "execution_count": 4,
   "metadata": {
    "pycharm": {
     "name": "#%%\n"
    }
   },
   "outputs": [],
   "source": [
    "#COUNTRY\n",
    "tab_countries=train['country'].value_counts()\n",
    "dominant_countries=tab_countries[tab_countries>50].index.values\n",
    "train['country']=train['country'].map(lambda x: x if x in dominant_countries else \"Others\")\n",
    "test['country']=test['country'].map(lambda x: x if x in dominant_countries else \"Others\")\n"
   ]
  },
  {
   "cell_type": "code",
   "execution_count": 5,
   "metadata": {
    "pycharm": {
     "name": "#%%\n"
    }
   },
   "outputs": [],
   "source": [
    "predictors=['country', 'age_group', 'travel_with', 'total_female',\n",
    "       'total_male', 'purpose', 'main_activity', 'info_source',\n",
    "       'tour_arrangement', 'package_transport_int', 'package_accomodation',\n",
    "       'package_food', 'package_transport_tz', 'package_sightseeing',\n",
    "       'package_guided_tour', 'package_insurance', 'night_mainland',\n",
    "       'night_zanzibar', 'first_trip_tz']\n",
    "\n",
    "cat_predictors=[ 'age_group', 'info_source',\n",
    "       'tour_arrangement', 'package_transport_int', 'package_accomodation',\n",
    "       'package_food', 'package_transport_tz', 'package_sightseeing',\n",
    "       'package_guided_tour', 'package_insurance',  'first_trip_tz']\n",
    "\n",
    "embedding_predictors=['country','travel_with','purpose','main_activity','info_source']\n"
   ]
  },
  {
   "cell_type": "markdown",
   "metadata": {
    "pycharm": {
     "name": "#%% md\n"
    }
   },
   "source": []
  },
  {
   "cell_type": "code",
   "execution_count": 6,
   "metadata": {
    "pycharm": {
     "name": "#%%\n"
    }
   },
   "outputs": [],
   "source": [
    "X_train=train[predictors].copy()\n",
    "label_enc=LabelEncoder()\n",
    "y_train=label_enc.fit_transform(train['cost_category'])\n",
    "\n",
    "X_test=test[predictors].copy()\n",
    "ids_test=test['Tour_ID']"
   ]
  },
  {
   "cell_type": "code",
   "execution_count": 7,
   "metadata": {
    "pycharm": {
     "name": "#%%\n"
    }
   },
   "outputs": [],
   "source": [
    "for i,col in enumerate(X_train.columns):\n",
    "    if (col in cat_predictors) or (col in embedding_predictors):\n",
    "        # cat_features.append(i)\n",
    "        if col == 'country':\n",
    "            mode=\"Others\"\n",
    "        else:\n",
    "            mode=X_train[col].value_counts().index[0]\n",
    "        # mode=\"Missing\"\n",
    "        X_train[col].fillna(mode,inplace=True)\n",
    "        X_test[col].fillna(mode,inplace=True)\n",
    "    else:\n",
    "        median=X_train[col].median()\n",
    "        X_train[col].fillna(median,inplace=True)\n",
    "        X_test[col].fillna(median,inplace=True)"
   ]
  },
  {
   "cell_type": "code",
   "execution_count": 8,
   "metadata": {
    "pycharm": {
     "name": "#%%\n"
    }
   },
   "outputs": [],
   "source": [
    "pool_test=Pool(X_test,cat_features=cat_predictors+embedding_predictors,)\n"
   ]
  },
  {
   "cell_type": "code",
   "execution_count": 9,
   "metadata": {
    "pycharm": {
     "name": "#%%\n"
    }
   },
   "outputs": [
    {
     "name": "stdout",
     "output_type": "stream",
     "text": [
      "0:\tlearn: 1.7592956\ttest: 1.7589224\tbest: 1.7589224 (0)\ttotal: 18ms\tremaining: 17.9s\n",
      "100:\tlearn: 1.1251586\ttest: 1.1253032\tbest: 1.1253032 (100)\ttotal: 1.06s\tremaining: 9.47s\n",
      "200:\tlearn: 1.0708640\ttest: 1.0808922\tbest: 1.0808922 (200)\ttotal: 2.05s\tremaining: 8.14s\n",
      "300:\tlearn: 1.0465227\ttest: 1.0683054\tbest: 1.0683054 (300)\ttotal: 3.01s\tremaining: 7s\n",
      "400:\tlearn: 1.0307506\ttest: 1.0629432\tbest: 1.0629432 (400)\ttotal: 4.06s\tremaining: 6.06s\n",
      "500:\tlearn: 1.0176500\ttest: 1.0600194\tbest: 1.0600012 (499)\ttotal: 4.95s\tremaining: 4.93s\n",
      "600:\tlearn: 1.0060907\ttest: 1.0583061\tbest: 1.0582780 (595)\ttotal: 6.14s\tremaining: 4.07s\n",
      "bestTest = 1.057990389\n",
      "bestIteration = 626\n",
      "Shrink model to first 627 iterations.\n",
      "0:\tlearn: 1.7591398\ttest: 1.7587794\tbest: 1.7587794 (0)\ttotal: 7.11ms\tremaining: 7.1s\n",
      "100:\tlearn: 1.1193380\ttest: 1.1343350\tbest: 1.1343350 (100)\ttotal: 820ms\tremaining: 7.3s\n",
      "200:\tlearn: 1.0665217\ttest: 1.0972780\tbest: 1.0972780 (200)\ttotal: 1.86s\tremaining: 7.4s\n",
      "300:\tlearn: 1.0430396\ttest: 1.0849745\tbest: 1.0849745 (300)\ttotal: 3.3s\tremaining: 7.66s\n",
      "400:\tlearn: 1.0291618\ttest: 1.0796107\tbest: 1.0796107 (400)\ttotal: 4.33s\tremaining: 6.47s\n",
      "500:\tlearn: 1.0181575\ttest: 1.0764721\tbest: 1.0764721 (500)\ttotal: 5.63s\tremaining: 5.61s\n",
      "600:\tlearn: 1.0091614\ttest: 1.0742662\tbest: 1.0742662 (600)\ttotal: 6.45s\tremaining: 4.28s\n",
      "700:\tlearn: 1.0004090\ttest: 1.0728215\tbest: 1.0728215 (700)\ttotal: 7.28s\tremaining: 3.1s\n",
      "bestTest = 1.072755358\n",
      "bestIteration = 706\n",
      "Shrink model to first 707 iterations.\n",
      "0:\tlearn: 1.7586428\ttest: 1.7597348\tbest: 1.7597348 (0)\ttotal: 7.09ms\tremaining: 7.09s\n",
      "100:\tlearn: 1.1168971\ttest: 1.1524361\tbest: 1.1524361 (100)\ttotal: 839ms\tremaining: 7.47s\n",
      "200:\tlearn: 1.0604892\ttest: 1.1136066\tbest: 1.1136066 (200)\ttotal: 1.7s\tremaining: 6.74s\n",
      "300:\tlearn: 1.0384211\ttest: 1.1032071\tbest: 1.1032071 (300)\ttotal: 2.65s\tremaining: 6.16s\n",
      "400:\tlearn: 1.0230463\ttest: 1.0988444\tbest: 1.0988444 (400)\ttotal: 3.36s\tremaining: 5.02s\n",
      "500:\tlearn: 1.0122889\ttest: 1.0965549\tbest: 1.0965313 (495)\ttotal: 4.25s\tremaining: 4.24s\n",
      "bestTest = 1.095602988\n",
      "bestIteration = 548\n",
      "Shrink model to first 549 iterations.\n",
      "0:\tlearn: 1.7588762\ttest: 1.7598520\tbest: 1.7598520 (0)\ttotal: 7.29ms\tremaining: 7.29s\n",
      "100:\tlearn: 1.1227977\ttest: 1.1372469\tbest: 1.1372469 (100)\ttotal: 1.1s\tremaining: 9.82s\n",
      "200:\tlearn: 1.0656919\ttest: 1.0921641\tbest: 1.0921641 (200)\ttotal: 1.98s\tremaining: 7.86s\n",
      "300:\tlearn: 1.0432200\ttest: 1.0800944\tbest: 1.0800944 (300)\ttotal: 2.71s\tremaining: 6.29s\n",
      "400:\tlearn: 1.0294718\ttest: 1.0744746\tbest: 1.0744746 (400)\ttotal: 3.41s\tremaining: 5.1s\n",
      "500:\tlearn: 1.0181525\ttest: 1.0715227\tbest: 1.0715227 (500)\ttotal: 4.13s\tremaining: 4.12s\n",
      "600:\tlearn: 1.0085794\ttest: 1.0690261\tbest: 1.0690191 (598)\ttotal: 4.79s\tremaining: 3.18s\n",
      "700:\tlearn: 0.9990112\ttest: 1.0676341\tbest: 1.0676121 (698)\ttotal: 5.43s\tremaining: 2.32s\n",
      "bestTest = 1.066993678\n",
      "bestIteration = 753\n",
      "Shrink model to first 754 iterations.\n",
      "0:\tlearn: 1.7594449\ttest: 1.7594390\tbest: 1.7594390 (0)\ttotal: 6.99ms\tremaining: 6.98s\n",
      "100:\tlearn: 1.1253563\ttest: 1.1324358\tbest: 1.1324358 (100)\ttotal: 664ms\tremaining: 5.91s\n",
      "200:\tlearn: 1.0700008\ttest: 1.0881149\tbest: 1.0881149 (200)\ttotal: 1.32s\tremaining: 5.25s\n",
      "300:\tlearn: 1.0475740\ttest: 1.0762133\tbest: 1.0762120 (299)\ttotal: 1.96s\tremaining: 4.56s\n",
      "400:\tlearn: 1.0336699\ttest: 1.0710347\tbest: 1.0710347 (400)\ttotal: 2.62s\tremaining: 3.91s\n",
      "500:\tlearn: 1.0223349\ttest: 1.0677810\tbest: 1.0677810 (500)\ttotal: 3.26s\tremaining: 3.25s\n",
      "600:\tlearn: 1.0128615\ttest: 1.0650700\tbest: 1.0650700 (600)\ttotal: 3.91s\tremaining: 2.6s\n",
      "bestTest = 1.064327789\n",
      "bestIteration = 666\n",
      "Shrink model to first 667 iterations.\n"
     ]
    }
   ],
   "source": [
    "models = []\n",
    "test_preds=[]\n",
    "pseudo_labels=[]\n",
    "pseudo_ids=[]\n",
    "k_folds=KFold(n_splits=5,shuffle=True,random_state=123)\n",
    "for train_ids,valid_ids in k_folds.split(X_train,y_train):\n",
    "    X_train_fold=X_train.iloc[train_ids,:]\n",
    "    X_valid_fold=X_train.iloc[valid_ids,:]\n",
    "    y_train_fold=y_train[train_ids]\n",
    "    y_valid_fold = y_train[valid_ids]\n",
    "    pseudo_ids.append(train['Tour_ID'].iloc[valid_ids].values)\n",
    "    pool_fold_train = Pool(X_train_fold, y_train_fold, cat_features=cat_predictors+embedding_predictors)\n",
    "    pool_fold_valid = Pool(X_valid_fold,y_valid_fold, cat_features=cat_predictors+embedding_predictors)\n",
    "    model_ = CatBoostClassifier(loss_function='MultiClass',\n",
    "                                learning_rate=0.03,depth=6,\n",
    "                                n_estimators=1000,\n",
    "                                l2_leaf_reg=12,\n",
    "                                bagging_temperature=1,\n",
    "                                train_dir=os.path.join(log_dir,f'{experiment}'),\n",
    "                           verbose=100,task_type=\"GPU\",early_stopping_rounds=10)\n",
    "    # model_.set_params(**best_params )\n",
    "    model_.fit(pool_fold_train,\n",
    "              eval_set=pool_fold_valid,\n",
    "               use_best_model=True)\n",
    "    models.append(model_)\n",
    "    test_preds.append(model_.predict_proba(pool_test))\n",
    "    pseudo_labels.append(model_.predict(pool_fold_valid,prediction_type=\"Probability\"))\n"
   ]
  },
  {
   "cell_type": "code",
   "execution_count": 10,
   "metadata": {
    "pycharm": {
     "name": "#%%\n"
    }
   },
   "outputs": [
    {
     "name": "stdout",
     "output_type": "stream",
     "text": [
      "{'learn': {'MultiClass': 1.0025658183599027}, 'validation': {'MultiClass': 1.0579903889578268}}  Trees: 627\n",
      "{'learn': {'MultiClass': 0.9992651870145222}, 'validation': {'MultiClass': 1.0727553575047284}}  Trees: 707\n",
      "{'learn': {'MultiClass': 1.0071067761102668}, 'validation': {'MultiClass': 1.0956029884237368}}  Trees: 549\n",
      "{'learn': {'MultiClass': 0.9940780933383991}, 'validation': {'MultiClass': 1.066993678334403}}  Trees: 754\n",
      "{'learn': {'MultiClass': 1.0060094377955082}, 'validation': {'MultiClass': 1.064327789364361}}  Trees: 667\n"
     ]
    }
   ],
   "source": [
    "for m in models:\n",
    "    print(m.best_score_,\" Trees:\",m.tree_count_)"
   ]
  },
  {
   "cell_type": "code",
   "execution_count": 12,
   "metadata": {
    "pycharm": {
     "name": "#%%\n"
    }
   },
   "outputs": [],
   "source": [
    "pseudo_labels_df=pd.DataFrame(np.concatenate(pseudo_labels,axis=0),columns=label_enc.classes_)\n",
    "pseudo_labels_df['Tour_ID']=np.concatenate(pseudo_ids,axis=0)\n",
    "test_predictions=np.stack(test_preds).mean(axis=0)\n",
    "\n",
    "test_df=pd.DataFrame(test_predictions)\n",
    "test_df['Test_ID']=ids_test\n",
    "test_df_long=pd.melt(test_df,id_vars='Test_ID',var_name='category',value_name='prob')\n",
    "test_df_long['category']=label_enc.inverse_transform(test_df_long['category'].astype('int'))\n",
    "test_df_wide=pd.pivot_table(test_df_long,values='prob',index='Test_ID',columns='category')\n",
    "\n",
    "test_df_wide.to_csv(os.path.join(result_dir,\"Catboost baseline.csv\"))\n",
    "pseudo_labels_df.to_csv(os.path.join(result_dir,\"Pseudo labels -boosting.csv\"),index=False)"
   ]
  },
  {
   "cell_type": "code",
   "execution_count": null,
   "metadata": {
    "pycharm": {
     "name": "#%%\n"
    }
   },
   "outputs": [],
   "source": []
  }
 ],
 "metadata": {
  "kernelspec": {
   "display_name": "Python 3 (ipykernel)",
   "language": "python",
   "name": "python3"
  },
  "language_info": {
   "codemirror_mode": {
    "name": "ipython",
    "version": 3
   },
   "file_extension": ".py",
   "mimetype": "text/x-python",
   "name": "python",
   "nbconvert_exporter": "python",
   "pygments_lexer": "ipython3",
   "version": "3.8.5"
  }
 },
 "nbformat": 4,
 "nbformat_minor": 1
}